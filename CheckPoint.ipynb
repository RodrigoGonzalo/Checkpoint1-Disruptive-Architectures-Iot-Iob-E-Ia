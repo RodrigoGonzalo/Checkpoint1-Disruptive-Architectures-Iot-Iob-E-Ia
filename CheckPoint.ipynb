{
  "cells": [
    {
      "cell_type": "markdown",
      "metadata": {
        "id": "AsDydV59EnBQ"
      },
      "source": [
        "## Aprendizagem de máquina\n",
        "\n",
        "### Objetivos\n",
        "\n",
        "  - Avaliar os conceitos de aprendizado de maquina aprendidos no curso\n"
      ]
    },
    {
      "cell_type": "markdown",
      "metadata": {
        "id": "_41x3wQMEnBY"
      },
      "source": [
        "# Desafio\n",
        "\n",
        "Você foi contratado por uma empresa inovadora do ramo imobiliario como `QuintoAndar, Loft, Terraz, grupo Zap (ZAP, Viva Real, DataZAP, FipeZAP, SuaHouse, Geoimóvel, Sub100 e Conecta Imobi) ou Imobi Conference`. O seu desafio está no apio à tomada de decisão baseada em dados (empresa data driven). \n",
        "\n",
        "Nesse sentido, use a base de dados **aptos.csv** para realizar a descoberta do conhecimento e responder a pergunta: \n",
        "\n",
        "**`Quanto vale um apartamento de 65m2 com 2 quartos, 2 vagas, reformado no Centro?`**\n"
      ]
    },
    {
      "cell_type": "markdown",
      "metadata": {
        "id": "CTGvPWQZEnBZ"
      },
      "source": [
        "### Orientações\n",
        "\n",
        "Siga as instruções, completando e construindo os algoritmos necessários.\n",
        "\n",
        "Nas celulas` Seu Código aqui...` significa que é necessário realizar a implementação de algum código. Utilize quantos blocos(células) julgar necessário para criar o código.\n",
        "\n",
        "Nas celulas `Responda` significa que é nessário uma resposta clara e objetiva (pode ser por texto, código, gráfico, imagem...) para a pergunta."
      ]
    },
    {
      "cell_type": "markdown",
      "metadata": {
        "id": "XemQnDtgEnBa"
      },
      "source": [
        "## Rubrica para avaliação\n",
        "    \n",
        "Os critérios de avaliação do projeto segue conforme a rubrica.\n",
        "\n",
        "- R1: Exploração de Dados (Até 2 pontos)\n",
        "- R2: Análise Descritiva de Dados (Até 2 pontos)\n",
        "- R3: Desenvolvimento do Modelo (Até 2 pontos)\n",
        "- R4: Treinamento e Teste do Modelo (Até 2 pontos)\n",
        "- R5: Conclusões Finais (Até 2 pontos)\n",
        "\n",
        "**Nota_final = R1 + R2 + R3 + R4 + R5**"
      ]
    },
    {
      "cell_type": "markdown",
      "metadata": {
        "id": "Jrw76pbZEnBb"
      },
      "source": [
        "# 1. Exploração de Dados\n",
        "\n",
        "Carregue o dataset e faça uma inspeção nas 15 primeiras linhas para identificação básica dos atributos.\n"
      ]
    },
    {
      "cell_type": "code",
      "execution_count": 12,
      "metadata": {
        "id": "eboasUCqEnBc"
      },
      "outputs": [],
      "source": [
        "import seaborn as sns\n",
        "import matplotlib.pyplot as plt\n",
        "import pandas as pd\n",
        "import numpy as np\n",
        "\n",
        "%matplotlib inline"
      ]
    },
    {
      "cell_type": "code",
      "execution_count": 13,
      "metadata": {
        "id": "7v12O1ZgEnBe",
        "colab": {
          "base_uri": "https://localhost:8080/",
          "height": 520
        },
        "outputId": "90beede7-3a0d-44b9-d6cd-83f2015289a6"
      },
      "outputs": [
        {
          "output_type": "execute_result",
          "data": {
            "text/plain": [
              "    metros  valor  quartos  vagas  reformado          bairro\n",
              "0      107    560        3      2          0  Vila Lusitania\n",
              "1      107    555        3      2          1  Vila Lusitania\n",
              "2       49    196        2      1          0    Ferrazopolis\n",
              "3      104    515        3      2          1          Centro\n",
              "4       92    560        3      2          1  Vila Lusitania\n",
              "5       51    249        2      1          0          Taboao\n",
              "6      140    635        4      3          1          Centro\n",
              "7       50    210        2      1          1        Demarchi\n",
              "8       93    450        3      2          0     Baeta Neves\n",
              "9      107    425        3      2          1     Rudge Ramos\n",
              "10     100    422        3      2          1     Baeta Neves\n",
              "11      64    250        2      1          1       Pauliceia\n",
              "12      65    350        2      2          1          Centro\n",
              "13      71    303        3      1          0          Centro\n",
              "14      64    294        3      1          0        Planalto"
            ],
            "text/html": [
              "\n",
              "  <div id=\"df-4dbc0a26-a976-4f91-9bf6-94e12874ad40\">\n",
              "    <div class=\"colab-df-container\">\n",
              "      <div>\n",
              "<style scoped>\n",
              "    .dataframe tbody tr th:only-of-type {\n",
              "        vertical-align: middle;\n",
              "    }\n",
              "\n",
              "    .dataframe tbody tr th {\n",
              "        vertical-align: top;\n",
              "    }\n",
              "\n",
              "    .dataframe thead th {\n",
              "        text-align: right;\n",
              "    }\n",
              "</style>\n",
              "<table border=\"1\" class=\"dataframe\">\n",
              "  <thead>\n",
              "    <tr style=\"text-align: right;\">\n",
              "      <th></th>\n",
              "      <th>metros</th>\n",
              "      <th>valor</th>\n",
              "      <th>quartos</th>\n",
              "      <th>vagas</th>\n",
              "      <th>reformado</th>\n",
              "      <th>bairro</th>\n",
              "    </tr>\n",
              "  </thead>\n",
              "  <tbody>\n",
              "    <tr>\n",
              "      <th>0</th>\n",
              "      <td>107</td>\n",
              "      <td>560</td>\n",
              "      <td>3</td>\n",
              "      <td>2</td>\n",
              "      <td>0</td>\n",
              "      <td>Vila Lusitania</td>\n",
              "    </tr>\n",
              "    <tr>\n",
              "      <th>1</th>\n",
              "      <td>107</td>\n",
              "      <td>555</td>\n",
              "      <td>3</td>\n",
              "      <td>2</td>\n",
              "      <td>1</td>\n",
              "      <td>Vila Lusitania</td>\n",
              "    </tr>\n",
              "    <tr>\n",
              "      <th>2</th>\n",
              "      <td>49</td>\n",
              "      <td>196</td>\n",
              "      <td>2</td>\n",
              "      <td>1</td>\n",
              "      <td>0</td>\n",
              "      <td>Ferrazopolis</td>\n",
              "    </tr>\n",
              "    <tr>\n",
              "      <th>3</th>\n",
              "      <td>104</td>\n",
              "      <td>515</td>\n",
              "      <td>3</td>\n",
              "      <td>2</td>\n",
              "      <td>1</td>\n",
              "      <td>Centro</td>\n",
              "    </tr>\n",
              "    <tr>\n",
              "      <th>4</th>\n",
              "      <td>92</td>\n",
              "      <td>560</td>\n",
              "      <td>3</td>\n",
              "      <td>2</td>\n",
              "      <td>1</td>\n",
              "      <td>Vila Lusitania</td>\n",
              "    </tr>\n",
              "    <tr>\n",
              "      <th>5</th>\n",
              "      <td>51</td>\n",
              "      <td>249</td>\n",
              "      <td>2</td>\n",
              "      <td>1</td>\n",
              "      <td>0</td>\n",
              "      <td>Taboao</td>\n",
              "    </tr>\n",
              "    <tr>\n",
              "      <th>6</th>\n",
              "      <td>140</td>\n",
              "      <td>635</td>\n",
              "      <td>4</td>\n",
              "      <td>3</td>\n",
              "      <td>1</td>\n",
              "      <td>Centro</td>\n",
              "    </tr>\n",
              "    <tr>\n",
              "      <th>7</th>\n",
              "      <td>50</td>\n",
              "      <td>210</td>\n",
              "      <td>2</td>\n",
              "      <td>1</td>\n",
              "      <td>1</td>\n",
              "      <td>Demarchi</td>\n",
              "    </tr>\n",
              "    <tr>\n",
              "      <th>8</th>\n",
              "      <td>93</td>\n",
              "      <td>450</td>\n",
              "      <td>3</td>\n",
              "      <td>2</td>\n",
              "      <td>0</td>\n",
              "      <td>Baeta Neves</td>\n",
              "    </tr>\n",
              "    <tr>\n",
              "      <th>9</th>\n",
              "      <td>107</td>\n",
              "      <td>425</td>\n",
              "      <td>3</td>\n",
              "      <td>2</td>\n",
              "      <td>1</td>\n",
              "      <td>Rudge Ramos</td>\n",
              "    </tr>\n",
              "    <tr>\n",
              "      <th>10</th>\n",
              "      <td>100</td>\n",
              "      <td>422</td>\n",
              "      <td>3</td>\n",
              "      <td>2</td>\n",
              "      <td>1</td>\n",
              "      <td>Baeta Neves</td>\n",
              "    </tr>\n",
              "    <tr>\n",
              "      <th>11</th>\n",
              "      <td>64</td>\n",
              "      <td>250</td>\n",
              "      <td>2</td>\n",
              "      <td>1</td>\n",
              "      <td>1</td>\n",
              "      <td>Pauliceia</td>\n",
              "    </tr>\n",
              "    <tr>\n",
              "      <th>12</th>\n",
              "      <td>65</td>\n",
              "      <td>350</td>\n",
              "      <td>2</td>\n",
              "      <td>2</td>\n",
              "      <td>1</td>\n",
              "      <td>Centro</td>\n",
              "    </tr>\n",
              "    <tr>\n",
              "      <th>13</th>\n",
              "      <td>71</td>\n",
              "      <td>303</td>\n",
              "      <td>3</td>\n",
              "      <td>1</td>\n",
              "      <td>0</td>\n",
              "      <td>Centro</td>\n",
              "    </tr>\n",
              "    <tr>\n",
              "      <th>14</th>\n",
              "      <td>64</td>\n",
              "      <td>294</td>\n",
              "      <td>3</td>\n",
              "      <td>1</td>\n",
              "      <td>0</td>\n",
              "      <td>Planalto</td>\n",
              "    </tr>\n",
              "  </tbody>\n",
              "</table>\n",
              "</div>\n",
              "      <button class=\"colab-df-convert\" onclick=\"convertToInteractive('df-4dbc0a26-a976-4f91-9bf6-94e12874ad40')\"\n",
              "              title=\"Convert this dataframe to an interactive table.\"\n",
              "              style=\"display:none;\">\n",
              "        \n",
              "  <svg xmlns=\"http://www.w3.org/2000/svg\" height=\"24px\"viewBox=\"0 0 24 24\"\n",
              "       width=\"24px\">\n",
              "    <path d=\"M0 0h24v24H0V0z\" fill=\"none\"/>\n",
              "    <path d=\"M18.56 5.44l.94 2.06.94-2.06 2.06-.94-2.06-.94-.94-2.06-.94 2.06-2.06.94zm-11 1L8.5 8.5l.94-2.06 2.06-.94-2.06-.94L8.5 2.5l-.94 2.06-2.06.94zm10 10l.94 2.06.94-2.06 2.06-.94-2.06-.94-.94-2.06-.94 2.06-2.06.94z\"/><path d=\"M17.41 7.96l-1.37-1.37c-.4-.4-.92-.59-1.43-.59-.52 0-1.04.2-1.43.59L10.3 9.45l-7.72 7.72c-.78.78-.78 2.05 0 2.83L4 21.41c.39.39.9.59 1.41.59.51 0 1.02-.2 1.41-.59l7.78-7.78 2.81-2.81c.8-.78.8-2.07 0-2.86zM5.41 20L4 18.59l7.72-7.72 1.47 1.35L5.41 20z\"/>\n",
              "  </svg>\n",
              "      </button>\n",
              "      \n",
              "  <style>\n",
              "    .colab-df-container {\n",
              "      display:flex;\n",
              "      flex-wrap:wrap;\n",
              "      gap: 12px;\n",
              "    }\n",
              "\n",
              "    .colab-df-convert {\n",
              "      background-color: #E8F0FE;\n",
              "      border: none;\n",
              "      border-radius: 50%;\n",
              "      cursor: pointer;\n",
              "      display: none;\n",
              "      fill: #1967D2;\n",
              "      height: 32px;\n",
              "      padding: 0 0 0 0;\n",
              "      width: 32px;\n",
              "    }\n",
              "\n",
              "    .colab-df-convert:hover {\n",
              "      background-color: #E2EBFA;\n",
              "      box-shadow: 0px 1px 2px rgba(60, 64, 67, 0.3), 0px 1px 3px 1px rgba(60, 64, 67, 0.15);\n",
              "      fill: #174EA6;\n",
              "    }\n",
              "\n",
              "    [theme=dark] .colab-df-convert {\n",
              "      background-color: #3B4455;\n",
              "      fill: #D2E3FC;\n",
              "    }\n",
              "\n",
              "    [theme=dark] .colab-df-convert:hover {\n",
              "      background-color: #434B5C;\n",
              "      box-shadow: 0px 1px 3px 1px rgba(0, 0, 0, 0.15);\n",
              "      filter: drop-shadow(0px 1px 2px rgba(0, 0, 0, 0.3));\n",
              "      fill: #FFFFFF;\n",
              "    }\n",
              "  </style>\n",
              "\n",
              "      <script>\n",
              "        const buttonEl =\n",
              "          document.querySelector('#df-4dbc0a26-a976-4f91-9bf6-94e12874ad40 button.colab-df-convert');\n",
              "        buttonEl.style.display =\n",
              "          google.colab.kernel.accessAllowed ? 'block' : 'none';\n",
              "\n",
              "        async function convertToInteractive(key) {\n",
              "          const element = document.querySelector('#df-4dbc0a26-a976-4f91-9bf6-94e12874ad40');\n",
              "          const dataTable =\n",
              "            await google.colab.kernel.invokeFunction('convertToInteractive',\n",
              "                                                     [key], {});\n",
              "          if (!dataTable) return;\n",
              "\n",
              "          const docLinkHtml = 'Like what you see? Visit the ' +\n",
              "            '<a target=\"_blank\" href=https://colab.research.google.com/notebooks/data_table.ipynb>data table notebook</a>'\n",
              "            + ' to learn more about interactive tables.';\n",
              "          element.innerHTML = '';\n",
              "          dataTable['output_type'] = 'display_data';\n",
              "          await google.colab.output.renderOutput(dataTable, element);\n",
              "          const docLink = document.createElement('div');\n",
              "          docLink.innerHTML = docLinkHtml;\n",
              "          element.appendChild(docLink);\n",
              "        }\n",
              "      </script>\n",
              "    </div>\n",
              "  </div>\n",
              "  "
            ]
          },
          "metadata": {},
          "execution_count": 13
        }
      ],
      "source": [
        "#Seu Código aqui....\n",
        "import seaborn as seab\n",
        "import matplotlib.pyplot as plt\n",
        "import pandas as pd\n",
        "import numpy as np\n",
        "\n",
        "df = pd.read_csv('aptos.csv')\n",
        "df.head(15)"
      ]
    },
    {
      "cell_type": "markdown",
      "source": [
        "Análise das 15 primeiras linhas\n",
        "\n",
        "-"
      ],
      "metadata": {
        "id": "5M6t5c_ZzvlR"
      }
    },
    {
      "cell_type": "markdown",
      "metadata": {
        "id": "Vwok27kVEnBf"
      },
      "source": [
        "### `Pergunta:` Apresente uma breve descrição do significado de cada atributo:\n",
        "\n",
        "Exemplo:\n",
        "- Idade: Idade em anos da pessoa\n",
        "- Marca: fabricante de carros\n",
        "- Combustivel: tipo de combustível (gasolina, disel...)\n",
        "- Especie: Tipo de flor iris-setosa, virginica... (Variável Alvo)\n",
        "\n",
        "\n",
        "\n",
        "\n"
      ]
    },
    {
      "cell_type": "markdown",
      "metadata": {
        "id": "S48qZORfEnBg"
      },
      "source": [
        "**Resposta:**\n",
        "\n",
        "-   ..:.Metros -> Mostra quantos metros quadrados (m^2) o apartamento possuí.\n",
        "\n",
        "-   ..:.Valor -> Mostra o valor do apartamento.\n",
        "\n",
        "-   ..:.Quartos -> Mostra quantos quartos o apartamento possuí.\n",
        "\n",
        "-   ..:.Vagas -> Mostra quantas vagas tem o Apartammento.\n",
        "\n",
        "-   ..:.Reformado -> Mostra quantas vezes o apartamento sofreu reformas.\n",
        "\n",
        "-   ..:.Bairro -> Mostra o bairro onde o apartamento está localizado.\n",
        "\n",
        "\n",
        "\n",
        "__________"
      ]
    },
    {
      "cell_type": "markdown",
      "metadata": {
        "id": "VBQjnm8vEnBh"
      },
      "source": [
        "**Pergunta:** Cite 2 cenários que podem fazer sentido na leitura dos dados apresentados.\n",
        "\n",
        "Exemplo: \n",
        "- Eu acho que o preço da gasolina sobe com o preço do petróleo. \n",
        "- Eu acho que na média homens são mais altos que mulheres na mesma faixa etaria.  "
      ]
    },
    {
      "cell_type": "markdown",
      "metadata": {
        "id": "Zp80G6hHEnBi"
      },
      "source": [
        "**Resposta:**\n",
        "\n",
        "1.  ...Os aptos dos bairros perto do Centro tem preços mais altos.\n",
        "2.  ...Os aptos acima de 100 metros quadrados tem preços mais altos"
      ]
    },
    {
      "cell_type": "markdown",
      "metadata": {
        "id": "VlNUKBMgEnBj"
      },
      "source": [
        "## 2. Análise descritiva de dados\n",
        "\n",
        "Faça uma análise exploratória dos dados. Utilize-se de gráficos e tabelas auxiliares, faça correlações entre os atributos.... Com o objetivo validar as afirmações levantadas acima."
      ]
    },
    {
      "cell_type": "code",
      "execution_count": 14,
      "metadata": {
        "id": "apflr7fcEnBk",
        "colab": {
          "base_uri": "https://localhost:8080/",
          "height": 1000
        },
        "outputId": "384e2224-1b58-4f52-aa4e-6a96585f34cc"
      },
      "outputs": [
        {
          "output_type": "display_data",
          "data": {
            "text/plain": [
              "<Figure size 432x288 with 1 Axes>"
            ],
            "image/png": "[encoded data removed]"
          },
          "metadata": {
            "needs_background": "light"
          }
        },
        {
          "output_type": "display_data",
          "data": {
            "text/plain": [
              "<Figure size 432x288 with 1 Axes>"
            ],
            "image/png": "[encoded data removed]"
          },
          "metadata": {
            "needs_background": "light"
          }
        },
        {
          "output_type": "display_data",
          "data": {
            "text/plain": [
              "<Figure size 432x288 with 1 Axes>"
            ],
            "image/png": "[encoded data removed]"
          },
          "metadata": {
            "needs_background": "light"
          }
        },
        {
          "output_type": "display_data",
          "data": {
            "text/plain": [
              "<Figure size 432x288 with 1 Axes>"
            ],
            "image/png": "[encoded data removed]"
          },
          "metadata": {
            "needs_background": "light"
          }
        },
        {
          "output_type": "display_data",
          "data": {
            "text/plain": [
              "<Figure size 432x288 with 1 Axes>"
            ],
            "image/png": "[encoded data removed]"
          },
          "metadata": {
            "needs_background": "light"
          }
        }
      ],
      "source": [
        "#Seu Código aqui...\n",
        "#violin plot\n",
        "\n",
        "g = sns.violinplot(y='valor', x='metros' , data = df, inner='quartile',)\n",
        "plt.show()\n",
        "\n",
        "g = sns.violinplot(y='valor', x='reformado', data = df, inner='quartile')\n",
        "plt.show()\n",
        "\n",
        "g = sns.violinplot(y='valor', x='bairro', data = df, inner='quartile')\n",
        "plt.show()\n",
        "\n",
        "g = sns.violinplot(y='valor', x='quartos', data = df, inner='quartile')\n",
        "plt.show()\n",
        "\n",
        "g = sns.violinplot(y='valor', x='vagas', data = df, inner='quartile')\n",
        "plt.show()\n",
        "\n"
      ]
    },
    {
      "cell_type": "code",
      "execution_count": 15,
      "metadata": {
        "id": "md1hjlgxEnBk",
        "colab": {
          "base_uri": "https://localhost:8080/",
          "height": 269
        },
        "outputId": "6e86ed84-58c7-4679-937b-12e61f30f507"
      },
      "outputs": [
        {
          "output_type": "display_data",
          "data": {
            "text/plain": [
              "<Figure size 432x288 with 2 Axes>"
            ],
            "image/png": "[encoded data removed]"
          },
          "metadata": {
            "needs_background": "light"
          }
        }
      ],
      "source": [
        "#Seu Código aqui...\n",
        "cols = ['metros', 'valor', 'quartos','vagas', 'reformado']\n",
        "corr_matx = df[cols].corr()\n",
        "heatmap = sns.heatmap(corr_matx,cbar=True,annot=True,square=True,fmt='.2f',annot_kws={'size': 15},yticklabels=cols,xticklabels=cols,cmap='Dark2')"
      ]
    },
    {
      "cell_type": "markdown",
      "metadata": {
        "id": "QFMnZ_R5EnBl"
      },
      "source": [
        "### __(BONUS: 1 ponto extra.)__ Análise de Outliers\n",
        "*Esse é um ponto extra, faça se quiser...\n",
        "\n",
        "Realize a análise e o tratamento de **outliers**, como referência para estudo:\n",
        "\n",
        "* [link1](https://machinelearningmastery.com/model-based-outlier-detection-and-removal-in-python/)\n",
        "* [link2](https://towardsdatascience.com/4-machine-learning-techniques-for-outlier-detection-in-python-21e9cfacb81d)\n",
        "* [link3](https://minerandodados.com.br/tratando-outliers-python/)\n",
        "\n",
        "**Pergunta:** Foram localizados outliers? Qual o método de análise adotado? Se existe, como os dados foram tratados (foram removidos ou mantidos)? "
      ]
    },
    {
      "cell_type": "markdown",
      "metadata": {
        "id": "aEBq3jZKEnBl"
      },
      "source": [
        "## 3. Desenvolvimento do Modelo"
      ]
    },
    {
      "cell_type": "markdown",
      "metadata": {
        "id": "wW2R15MjEnBm"
      },
      "source": [
        "**Pergunta:** O conjunto de dados indica a aplicação de qual modelo de aprendizagem de maquina para determinação do valor de um imóvel? Por que ? "
      ]
    },
    {
      "cell_type": "markdown",
      "metadata": {
        "id": "qV22-xMpEnBm"
      },
      "source": [
        "**Resposta:**\n",
        "\n",
        "    [ ] Aprendizado por reforço\n",
        "    [X] Aprendizado supervisionado\n",
        "    [ ] Aprendizado não supervisionado"
      ]
    },
    {
      "cell_type": "markdown",
      "metadata": {
        "id": "oijxNQnWEnBn"
      },
      "source": [
        "**Pergunta:** Qual a técnica sugerida para este projeto?"
      ]
    },
    {
      "cell_type": "markdown",
      "metadata": {
        "id": "7gfXFr3cEnBn"
      },
      "source": [
        "**Resposta:**\n",
        "\n",
        "    [X] Regressão\n",
        "    [ ] Classificação\n",
        "    [ ] Clusterização"
      ]
    },
    {
      "cell_type": "markdown",
      "metadata": {
        "id": "GCNZREN8EnBn"
      },
      "source": [
        "**Pergunta:** Escolha 2 modelos de algoritmos para testar a performance de cada um deles."
      ]
    },
    {
      "cell_type": "markdown",
      "metadata": {
        "id": "-JaS9wt1EnBo"
      },
      "source": [
        "**Resposta:**\n",
        "\n",
        "1. algoritimo ... Regressão Linear\n",
        "2. algoritimo ... Rede Neural"
      ]
    },
    {
      "cell_type": "markdown",
      "metadata": {
        "id": "xwiwcazSEnBo"
      },
      "source": [
        "__(BONUS: 1 ponto extra.)__ **Pergunta:** Explique como cada algoritmo funciona.\n"
      ]
    },
    {
      "cell_type": "markdown",
      "metadata": {
        "id": "3d2zeM5MEnBo"
      },
      "source": [
        "**Resposta:**\n",
        "\n",
        "1. algoritimo ...___________ \n",
        "2. algoritimo ...___________"
      ]
    },
    {
      "cell_type": "markdown",
      "metadata": {
        "id": "GCyIFM2-EnBp"
      },
      "source": [
        "## 4. Treinamento e teste do modelo"
      ]
    },
    {
      "cell_type": "markdown",
      "metadata": {
        "id": "VkZdTzXcEnBp"
      },
      "source": [
        "Crie um subset dos dados apenas com os atributos que serão utilizados para o treinameno e teste do modelo. Divida o subset em conjunto de treinamento e teste."
      ]
    },
    {
      "cell_type": "code",
      "execution_count": 21,
      "metadata": {
        "id": "HzfFs5RSEnBp"
      },
      "outputs": [],
      "source": [
        "#Seu Código aqui...\n",
        "X = df[['metros','reformado', 'vagas']]\n",
        "Y = df['valor']"
      ]
    },
    {
      "cell_type": "code",
      "source": [
        "df.info()"
      ],
      "metadata": {
        "colab": {
          "base_uri": "https://localhost:8080/"
        },
        "id": "NY673N_sn8b4",
        "outputId": "09c2a18a-0d07-4d42-c88b-1968e332d7e4"
      },
      "execution_count": 22,
      "outputs": [
        {
          "output_type": "stream",
          "name": "stdout",
          "text": [
            "<class 'pandas.core.frame.DataFrame'>\n",
            "RangeIndex: 100 entries, 0 to 99\n",
            "Data columns (total 6 columns):\n",
            " #   Column     Non-Null Count  Dtype \n",
            "---  ------     --------------  ----- \n",
            " 0   metros     100 non-null    int64 \n",
            " 1   valor      100 non-null    int64 \n",
            " 2   quartos    100 non-null    int64 \n",
            " 3   vagas      100 non-null    int64 \n",
            " 4   reformado  100 non-null    int64 \n",
            " 5   bairro     100 non-null    object\n",
            "dtypes: int64(5), object(1)\n",
            "memory usage: 4.8+ KB\n"
          ]
        }
      ]
    },
    {
      "cell_type": "code",
      "source": [
        "df.describe()"
      ],
      "metadata": {
        "colab": {
          "base_uri": "https://localhost:8080/",
          "height": 300
        },
        "id": "mEm6JT_Cn_a2",
        "outputId": "0ddf1280-3d02-4b9f-86ee-209597f1fedc"
      },
      "execution_count": 23,
      "outputs": [
        {
          "output_type": "execute_result",
          "data": {
            "text/plain": [
              "           metros      valor     quartos       vagas   reformado\n",
              "count  100.000000  100.00000  100.000000  100.000000  100.000000\n",
              "mean    80.280000  402.93000    2.590000    1.650000    0.540000\n",
              "std     27.606206  171.43154    0.552222    0.687184    0.500908\n",
              "min     43.000000  188.00000    2.000000    0.000000    0.000000\n",
              "25%     56.750000  258.00000    2.000000    1.000000    0.000000\n",
              "50%     72.000000  355.00000    3.000000    2.000000    1.000000\n",
              "75%    100.000000  515.00000    3.000000    2.000000    1.000000\n",
              "max    199.000000  880.00000    4.000000    4.000000    1.000000"
            ],
            "text/html": [
              "\n",
              "  <div id=\"df-1fb076b6-5deb-41e7-8abf-b8f75679347c\">\n",
              "    <div class=\"colab-df-container\">\n",
              "      <div>\n",
              "<style scoped>\n",
              "    .dataframe tbody tr th:only-of-type {\n",
              "        vertical-align: middle;\n",
              "    }\n",
              "\n",
              "    .dataframe tbody tr th {\n",
              "        vertical-align: top;\n",
              "    }\n",
              "\n",
              "    .dataframe thead th {\n",
              "        text-align: right;\n",
              "    }\n",
              "</style>\n",
              "<table border=\"1\" class=\"dataframe\">\n",
              "  <thead>\n",
              "    <tr style=\"text-align: right;\">\n",
              "      <th></th>\n",
              "      <th>metros</th>\n",
              "      <th>valor</th>\n",
              "      <th>quartos</th>\n",
              "      <th>vagas</th>\n",
              "      <th>reformado</th>\n",
              "    </tr>\n",
              "  </thead>\n",
              "  <tbody>\n",
              "    <tr>\n",
              "      <th>count</th>\n",
              "      <td>100.000000</td>\n",
              "      <td>100.00000</td>\n",
              "      <td>100.000000</td>\n",
              "      <td>100.000000</td>\n",
              "      <td>100.000000</td>\n",
              "    </tr>\n",
              "    <tr>\n",
              "      <th>mean</th>\n",
              "      <td>80.280000</td>\n",
              "      <td>402.93000</td>\n",
              "      <td>2.590000</td>\n",
              "      <td>1.650000</td>\n",
              "      <td>0.540000</td>\n",
              "    </tr>\n",
              "    <tr>\n",
              "      <th>std</th>\n",
              "      <td>27.606206</td>\n",
              "      <td>171.43154</td>\n",
              "      <td>0.552222</td>\n",
              "      <td>0.687184</td>\n",
              "      <td>0.500908</td>\n",
              "    </tr>\n",
              "    <tr>\n",
              "      <th>min</th>\n",
              "      <td>43.000000</td>\n",
              "      <td>188.00000</td>\n",
              "      <td>2.000000</td>\n",
              "      <td>0.000000</td>\n",
              "      <td>0.000000</td>\n",
              "    </tr>\n",
              "    <tr>\n",
              "      <th>25%</th>\n",
              "      <td>56.750000</td>\n",
              "      <td>258.00000</td>\n",
              "      <td>2.000000</td>\n",
              "      <td>1.000000</td>\n",
              "      <td>0.000000</td>\n",
              "    </tr>\n",
              "    <tr>\n",
              "      <th>50%</th>\n",
              "      <td>72.000000</td>\n",
              "      <td>355.00000</td>\n",
              "      <td>3.000000</td>\n",
              "      <td>2.000000</td>\n",
              "      <td>1.000000</td>\n",
              "    </tr>\n",
              "    <tr>\n",
              "      <th>75%</th>\n",
              "      <td>100.000000</td>\n",
              "      <td>515.00000</td>\n",
              "      <td>3.000000</td>\n",
              "      <td>2.000000</td>\n",
              "      <td>1.000000</td>\n",
              "    </tr>\n",
              "    <tr>\n",
              "      <th>max</th>\n",
              "      <td>199.000000</td>\n",
              "      <td>880.00000</td>\n",
              "      <td>4.000000</td>\n",
              "      <td>4.000000</td>\n",
              "      <td>1.000000</td>\n",
              "    </tr>\n",
              "  </tbody>\n",
              "</table>\n",
              "</div>\n",
              "      <button class=\"colab-df-convert\" onclick=\"convertToInteractive('df-1fb076b6-5deb-41e7-8abf-b8f75679347c')\"\n",
              "              title=\"Convert this dataframe to an interactive table.\"\n",
              "              style=\"display:none;\">\n",
              "        \n",
              "  <svg xmlns=\"http://www.w3.org/2000/svg\" height=\"24px\"viewBox=\"0 0 24 24\"\n",
              "       width=\"24px\">\n",
              "    <path d=\"M0 0h24v24H0V0z\" fill=\"none\"/>\n",
              "    <path d=\"M18.56 5.44l.94 2.06.94-2.06 2.06-.94-2.06-.94-.94-2.06-.94 2.06-2.06.94zm-11 1L8.5 8.5l.94-2.06 2.06-.94-2.06-.94L8.5 2.5l-.94 2.06-2.06.94zm10 10l.94 2.06.94-2.06 2.06-.94-2.06-.94-.94-2.06-.94 2.06-2.06.94z\"/><path d=\"M17.41 7.96l-1.37-1.37c-.4-.4-.92-.59-1.43-.59-.52 0-1.04.2-1.43.59L10.3 9.45l-7.72 7.72c-.78.78-.78 2.05 0 2.83L4 21.41c.39.39.9.59 1.41.59.51 0 1.02-.2 1.41-.59l7.78-7.78 2.81-2.81c.8-.78.8-2.07 0-2.86zM5.41 20L4 18.59l7.72-7.72 1.47 1.35L5.41 20z\"/>\n",
              "  </svg>\n",
              "      </button>\n",
              "      \n",
              "  <style>\n",
              "    .colab-df-container {\n",
              "      display:flex;\n",
              "      flex-wrap:wrap;\n",
              "      gap: 12px;\n",
              "    }\n",
              "\n",
              "    .colab-df-convert {\n",
              "      background-color: #E8F0FE;\n",
              "      border: none;\n",
              "      border-radius: 50%;\n",
              "      cursor: pointer;\n",
              "      display: none;\n",
              "      fill: #1967D2;\n",
              "      height: 32px;\n",
              "      padding: 0 0 0 0;\n",
              "      width: 32px;\n",
              "    }\n",
              "\n",
              "    .colab-df-convert:hover {\n",
              "      background-color: #E2EBFA;\n",
              "      box-shadow: 0px 1px 2px rgba(60, 64, 67, 0.3), 0px 1px 3px 1px rgba(60, 64, 67, 0.15);\n",
              "      fill: #174EA6;\n",
              "    }\n",
              "\n",
              "    [theme=dark] .colab-df-convert {\n",
              "      background-color: #3B4455;\n",
              "      fill: #D2E3FC;\n",
              "    }\n",
              "\n",
              "    [theme=dark] .colab-df-convert:hover {\n",
              "      background-color: #434B5C;\n",
              "      box-shadow: 0px 1px 3px 1px rgba(0, 0, 0, 0.15);\n",
              "      filter: drop-shadow(0px 1px 2px rgba(0, 0, 0, 0.3));\n",
              "      fill: #FFFFFF;\n",
              "    }\n",
              "  </style>\n",
              "\n",
              "      <script>\n",
              "        const buttonEl =\n",
              "          document.querySelector('#df-1fb076b6-5deb-41e7-8abf-b8f75679347c button.colab-df-convert');\n",
              "        buttonEl.style.display =\n",
              "          google.colab.kernel.accessAllowed ? 'block' : 'none';\n",
              "\n",
              "        async function convertToInteractive(key) {\n",
              "          const element = document.querySelector('#df-1fb076b6-5deb-41e7-8abf-b8f75679347c');\n",
              "          const dataTable =\n",
              "            await google.colab.kernel.invokeFunction('convertToInteractive',\n",
              "                                                     [key], {});\n",
              "          if (!dataTable) return;\n",
              "\n",
              "          const docLinkHtml = 'Like what you see? Visit the ' +\n",
              "            '<a target=\"_blank\" href=https://colab.research.google.com/notebooks/data_table.ipynb>data table notebook</a>'\n",
              "            + ' to learn more about interactive tables.';\n",
              "          element.innerHTML = '';\n",
              "          dataTable['output_type'] = 'display_data';\n",
              "          await google.colab.output.renderOutput(dataTable, element);\n",
              "          const docLink = document.createElement('div');\n",
              "          docLink.innerHTML = docLinkHtml;\n",
              "          element.appendChild(docLink);\n",
              "        }\n",
              "      </script>\n",
              "    </div>\n",
              "  </div>\n",
              "  "
            ]
          },
          "metadata": {},
          "execution_count": 23
        }
      ]
    },
    {
      "cell_type": "markdown",
      "metadata": {
        "id": "zAmwkQ8fEnBp"
      },
      "source": [
        "Faça o treinamento e teste dos 2 algoritmos escolhidos. Utilize uma métrica (ex. R2-score, RMSE e MAE...) para avaliar a performance dos modelos."
      ]
    },
    {
      "cell_type": "markdown",
      "metadata": {
        "id": "FIgJ9zIpEnBq"
      },
      "source": [
        "### Algoritmo 1"
      ]
    },
    {
      "cell_type": "code",
      "execution_count": 26,
      "metadata": {
        "id": "NHdh-Lw2EnBq",
        "colab": {
          "base_uri": "https://localhost:8080/"
        },
        "outputId": "3ecf438f-f7cb-4a9e-9309-c6f3c2191220"
      },
      "outputs": [
        {
          "output_type": "stream",
          "name": "stdout",
          "text": [
            "Formato das tabelas de dados (100, 3) e saidas (100,)\n"
          ]
        }
      ],
      "source": [
        "#Seu Código aqui...\n",
        "\n",
        "X = df[['metros','reformado', 'vagas']]\n",
        "Y = df['valor']\n",
        "\n",
        "print(f\"Formato das tabelas de dados {X.shape} e saidas {Y.shape}\")\n"
      ]
    },
    {
      "cell_type": "code",
      "source": [
        "from sklearn.model_selection import train_test_split\n",
        "\n",
        "X_treino, X_teste, Y_treino, Y_teste = train_test_split(X, Y, test_size=0.2)\n",
        "\n",
        "print(X_treino.shape)\n",
        "print(X_teste.shape)\n",
        "print(Y_treino.shape)\n",
        "print(Y_teste.shape)"
      ],
      "metadata": {
        "colab": {
          "base_uri": "https://localhost:8080/"
        },
        "id": "Re9zEXe1sdl4",
        "outputId": "31968935-8a3a-4ef1-b53a-cd110ff6bfc4"
      },
      "execution_count": 28,
      "outputs": [
        {
          "output_type": "stream",
          "name": "stdout",
          "text": [
            "(80, 3)\n",
            "(20, 3)\n",
            "(80,)\n",
            "(20,)\n"
          ]
        }
      ]
    },
    {
      "cell_type": "code",
      "source": [
        "X_treino.head()"
      ],
      "metadata": {
        "colab": {
          "base_uri": "https://localhost:8080/",
          "height": 206
        },
        "id": "SPO2CfSYsn-I",
        "outputId": "a48edf9c-20a5-4350-ed3a-b92d8c27b555"
      },
      "execution_count": 29,
      "outputs": [
        {
          "output_type": "execute_result",
          "data": {
            "text/plain": [
              "    metros  reformado  vagas\n",
              "84      58          1      1\n",
              "73      48          0      1\n",
              "96     105          1      2\n",
              "39      85          1      2\n",
              "26     104          1      2"
            ],
            "text/html": [
              "\n",
              "  <div id=\"df-0e274001-bffc-44e4-a450-0d7bbf6da1db\">\n",
              "    <div class=\"colab-df-container\">\n",
              "      <div>\n",
              "<style scoped>\n",
              "    .dataframe tbody tr th:only-of-type {\n",
              "        vertical-align: middle;\n",
              "    }\n",
              "\n",
              "    .dataframe tbody tr th {\n",
              "        vertical-align: top;\n",
              "    }\n",
              "\n",
              "    .dataframe thead th {\n",
              "        text-align: right;\n",
              "    }\n",
              "</style>\n",
              "<table border=\"1\" class=\"dataframe\">\n",
              "  <thead>\n",
              "    <tr style=\"text-align: right;\">\n",
              "      <th></th>\n",
              "      <th>metros</th>\n",
              "      <th>reformado</th>\n",
              "      <th>vagas</th>\n",
              "    </tr>\n",
              "  </thead>\n",
              "  <tbody>\n",
              "    <tr>\n",
              "      <th>84</th>\n",
              "      <td>58</td>\n",
              "      <td>1</td>\n",
              "      <td>1</td>\n",
              "    </tr>\n",
              "    <tr>\n",
              "      <th>73</th>\n",
              "      <td>48</td>\n",
              "      <td>0</td>\n",
              "      <td>1</td>\n",
              "    </tr>\n",
              "    <tr>\n",
              "      <th>96</th>\n",
              "      <td>105</td>\n",
              "      <td>1</td>\n",
              "      <td>2</td>\n",
              "    </tr>\n",
              "    <tr>\n",
              "      <th>39</th>\n",
              "      <td>85</td>\n",
              "      <td>1</td>\n",
              "      <td>2</td>\n",
              "    </tr>\n",
              "    <tr>\n",
              "      <th>26</th>\n",
              "      <td>104</td>\n",
              "      <td>1</td>\n",
              "      <td>2</td>\n",
              "    </tr>\n",
              "  </tbody>\n",
              "</table>\n",
              "</div>\n",
              "      <button class=\"colab-df-convert\" onclick=\"convertToInteractive('df-0e274001-bffc-44e4-a450-0d7bbf6da1db')\"\n",
              "              title=\"Convert this dataframe to an interactive table.\"\n",
              "              style=\"display:none;\">\n",
              "        \n",
              "  <svg xmlns=\"http://www.w3.org/2000/svg\" height=\"24px\"viewBox=\"0 0 24 24\"\n",
              "       width=\"24px\">\n",
              "    <path d=\"M0 0h24v24H0V0z\" fill=\"none\"/>\n",
              "    <path d=\"M18.56 5.44l.94 2.06.94-2.06 2.06-.94-2.06-.94-.94-2.06-.94 2.06-2.06.94zm-11 1L8.5 8.5l.94-2.06 2.06-.94-2.06-.94L8.5 2.5l-.94 2.06-2.06.94zm10 10l.94 2.06.94-2.06 2.06-.94-2.06-.94-.94-2.06-.94 2.06-2.06.94z\"/><path d=\"M17.41 7.96l-1.37-1.37c-.4-.4-.92-.59-1.43-.59-.52 0-1.04.2-1.43.59L10.3 9.45l-7.72 7.72c-.78.78-.78 2.05 0 2.83L4 21.41c.39.39.9.59 1.41.59.51 0 1.02-.2 1.41-.59l7.78-7.78 2.81-2.81c.8-.78.8-2.07 0-2.86zM5.41 20L4 18.59l7.72-7.72 1.47 1.35L5.41 20z\"/>\n",
              "  </svg>\n",
              "      </button>\n",
              "      \n",
              "  <style>\n",
              "    .colab-df-container {\n",
              "      display:flex;\n",
              "      flex-wrap:wrap;\n",
              "      gap: 12px;\n",
              "    }\n",
              "\n",
              "    .colab-df-convert {\n",
              "      background-color: #E8F0FE;\n",
              "      border: none;\n",
              "      border-radius: 50%;\n",
              "      cursor: pointer;\n",
              "      display: none;\n",
              "      fill: #1967D2;\n",
              "      height: 32px;\n",
              "      padding: 0 0 0 0;\n",
              "      width: 32px;\n",
              "    }\n",
              "\n",
              "    .colab-df-convert:hover {\n",
              "      background-color: #E2EBFA;\n",
              "      box-shadow: 0px 1px 2px rgba(60, 64, 67, 0.3), 0px 1px 3px 1px rgba(60, 64, 67, 0.15);\n",
              "      fill: #174EA6;\n",
              "    }\n",
              "\n",
              "    [theme=dark] .colab-df-convert {\n",
              "      background-color: #3B4455;\n",
              "      fill: #D2E3FC;\n",
              "    }\n",
              "\n",
              "    [theme=dark] .colab-df-convert:hover {\n",
              "      background-color: #434B5C;\n",
              "      box-shadow: 0px 1px 3px 1px rgba(0, 0, 0, 0.15);\n",
              "      filter: drop-shadow(0px 1px 2px rgba(0, 0, 0, 0.3));\n",
              "      fill: #FFFFFF;\n",
              "    }\n",
              "  </style>\n",
              "\n",
              "      <script>\n",
              "        const buttonEl =\n",
              "          document.querySelector('#df-0e274001-bffc-44e4-a450-0d7bbf6da1db button.colab-df-convert');\n",
              "        buttonEl.style.display =\n",
              "          google.colab.kernel.accessAllowed ? 'block' : 'none';\n",
              "\n",
              "        async function convertToInteractive(key) {\n",
              "          const element = document.querySelector('#df-0e274001-bffc-44e4-a450-0d7bbf6da1db');\n",
              "          const dataTable =\n",
              "            await google.colab.kernel.invokeFunction('convertToInteractive',\n",
              "                                                     [key], {});\n",
              "          if (!dataTable) return;\n",
              "\n",
              "          const docLinkHtml = 'Like what you see? Visit the ' +\n",
              "            '<a target=\"_blank\" href=https://colab.research.google.com/notebooks/data_table.ipynb>data table notebook</a>'\n",
              "            + ' to learn more about interactive tables.';\n",
              "          element.innerHTML = '';\n",
              "          dataTable['output_type'] = 'display_data';\n",
              "          await google.colab.output.renderOutput(dataTable, element);\n",
              "          const docLink = document.createElement('div');\n",
              "          docLink.innerHTML = docLinkHtml;\n",
              "          element.appendChild(docLink);\n",
              "        }\n",
              "      </script>\n",
              "    </div>\n",
              "  </div>\n",
              "  "
            ]
          },
          "metadata": {},
          "execution_count": 29
        }
      ]
    },
    {
      "cell_type": "code",
      "source": [
        "Y_treino.head()"
      ],
      "metadata": {
        "colab": {
          "base_uri": "https://localhost:8080/"
        },
        "id": "sKwmum2BsxMo",
        "outputId": "8ce54f23-36e2-410a-aab3-a36b86faaa7c"
      },
      "execution_count": 30,
      "outputs": [
        {
          "output_type": "execute_result",
          "data": {
            "text/plain": [
              "84    195\n",
              "73    217\n",
              "96    659\n",
              "39    580\n",
              "26    445\n",
              "Name: valor, dtype: int64"
            ]
          },
          "metadata": {},
          "execution_count": 30
        }
      ]
    },
    {
      "cell_type": "code",
      "source": [
        "# Importa a biblioteca\n",
        "from sklearn.linear_model import LinearRegression\n",
        "from sklearn.metrics import mean_squared_error\n",
        "\n",
        "# Cria o modelo de regressão \n",
        "lin_model = LinearRegression()\n",
        "\n",
        "# Cria o modelo de machine learning\n",
        "lin_model.fit(X_treino, Y_treino)"
      ],
      "metadata": {
        "colab": {
          "base_uri": "https://localhost:8080/"
        },
        "id": "F1gdG-fEtgtc",
        "outputId": "b5036b3d-b99c-49bf-a93a-5f6c5c35867c"
      },
      "execution_count": 31,
      "outputs": [
        {
          "output_type": "execute_result",
          "data": {
            "text/plain": [
              "LinearRegression()"
            ]
          },
          "metadata": {},
          "execution_count": 31
        }
      ]
    },
    {
      "cell_type": "code",
      "source": [
        "# Para obter as previsões, basta chamar o método predict()\n",
        "Y_teste_predito = lin_model.predict(X_teste)\n",
        "print(\"Predição usando regressão, retorna valores continuos: {}\".format(Y_teste_predito))"
      ],
      "metadata": {
        "colab": {
          "base_uri": "https://localhost:8080/"
        },
        "id": "yqXTGGc9tmrk",
        "outputId": "c97351b5-3421-4889-8eb9-be5d9b11523a"
      },
      "execution_count": 33,
      "outputs": [
        {
          "output_type": "stream",
          "name": "stdout",
          "text": [
            "Predição usando regressão, retorna valores continuos: [ 558.32564554  354.91537666  518.77364882  242.73541917  248.38570442\n",
            "  220.13427818  784.33705542  561.97436443  244.73698553  239.08670028\n",
            "  329.49126423  333.13998312 1129.0001131   237.08513392  567.62464968\n",
            "  552.6753603   354.91537666  528.07265295  330.31266931  180.58228145]\n"
          ]
        }
      ]
    },
    {
      "cell_type": "code",
      "source": [
        "plt.scatter(Y_teste,Y_teste_predito)\n",
        "plt.xlabel('Valor Real')\n",
        "plt.ylabel('Valor Predito')"
      ],
      "metadata": {
        "colab": {
          "base_uri": "https://localhost:8080/",
          "height": 298
        },
        "id": "SpohcAbbuRyy",
        "outputId": "913cc872-555a-4c2e-b11f-c203bf67d6ec"
      },
      "execution_count": 34,
      "outputs": [
        {
          "output_type": "execute_result",
          "data": {
            "text/plain": [
              "Text(0, 0.5, 'Valor Predito')"
            ]
          },
          "metadata": {},
          "execution_count": 34
        },
        {
          "output_type": "display_data",
          "data": {
            "text/plain": [
              "<Figure size 432x288 with 1 Axes>"
            ],
            "image/png": "[encoded data removed]"
          },
          "metadata": {
            "needs_background": "light"
          }
        }
      ]
    },
    {
      "cell_type": "code",
      "source": [
        "from sklearn.metrics import r2_score, mean_squared_error,mean_absolute_error\n",
        "import numpy as np\n",
        "\n",
        "print(\"Soma dos Erros ao Quadrado (SSE): %2.f \" % np.sum((Y_teste_predito - Y_teste)**2))\n",
        "print(\"Erro Quadrático Médio (MSE): %.2f\" % mean_squared_error(Y_teste, Y_teste_predito))\n",
        "print(\"Erro Médio Absoluto (MAE): %.2f\" % mean_absolute_error(Y_teste, Y_teste_predito))\n",
        "print (\"Raiz do Erro Quadrático Médio (RMSE): %.2f \" % np.sqrt(mean_squared_error(Y_teste, Y_teste_predito)))\n",
        "print(\"R2-score: %.2f\" % r2_score(Y_teste_predito , Y_teste) )"
      ],
      "metadata": {
        "colab": {
          "base_uri": "https://localhost:8080/"
        },
        "id": "BCoGIgl4vbvi",
        "outputId": "45102e26-f361-48e0-8b1d-c0eef516172a"
      },
      "execution_count": 37,
      "outputs": [
        {
          "output_type": "stream",
          "name": "stdout",
          "text": [
            "Soma dos Erros ao Quadrado (SSE): 148462 \n",
            "Erro Quadrático Médio (MSE): 7423.09\n",
            "Erro Médio Absoluto (MAE): 64.07\n",
            "Raiz do Erro Quadrático Médio (RMSE): 86.16 \n",
            "R2-score: 0.85\n"
          ]
        }
      ]
    },
    {
      "cell_type": "markdown",
      "metadata": {
        "id": "EKn6sHPLEnBq"
      },
      "source": [
        "### Algoritmo 2"
      ]
    },
    {
      "cell_type": "code",
      "source": [
        "import pandas as pd\n",
        "import numpy as np\n",
        "df = pd.read_csv('aptos.csv')\n",
        "df.info()\n",
        "\n",
        "X = df[['metros','reformado', 'vagas']]\n",
        "Y = df['valor']\n",
        "df.head()"
      ],
      "metadata": {
        "colab": {
          "base_uri": "https://localhost:8080/",
          "height": 447
        },
        "id": "599mek7wltEn",
        "outputId": "1ecc64c0-d6dd-4c2a-a904-5600a21b5b11"
      },
      "execution_count": 66,
      "outputs": [
        {
          "output_type": "stream",
          "name": "stdout",
          "text": [
            "<class 'pandas.core.frame.DataFrame'>\n",
            "RangeIndex: 100 entries, 0 to 99\n",
            "Data columns (total 6 columns):\n",
            " #   Column     Non-Null Count  Dtype \n",
            "---  ------     --------------  ----- \n",
            " 0   metros     100 non-null    int64 \n",
            " 1   valor      100 non-null    int64 \n",
            " 2   quartos    100 non-null    int64 \n",
            " 3   vagas      100 non-null    int64 \n",
            " 4   reformado  100 non-null    int64 \n",
            " 5   bairro     100 non-null    object\n",
            "dtypes: int64(5), object(1)\n",
            "memory usage: 4.8+ KB\n"
          ]
        },
        {
          "output_type": "execute_result",
          "data": {
            "text/plain": [
              "   metros  valor  quartos  vagas  reformado          bairro\n",
              "0     107    560        3      2          0  Vila Lusitania\n",
              "1     107    555        3      2          1  Vila Lusitania\n",
              "2      49    196        2      1          0    Ferrazopolis\n",
              "3     104    515        3      2          1          Centro\n",
              "4      92    560        3      2          1  Vila Lusitania"
            ],
            "text/html": [
              "\n",
              "  <div id=\"df-ef6c2aef-6d3f-4d56-b2d5-0509209cca96\">\n",
              "    <div class=\"colab-df-container\">\n",
              "      <div>\n",
              "<style scoped>\n",
              "    .dataframe tbody tr th:only-of-type {\n",
              "        vertical-align: middle;\n",
              "    }\n",
              "\n",
              "    .dataframe tbody tr th {\n",
              "        vertical-align: top;\n",
              "    }\n",
              "\n",
              "    .dataframe thead th {\n",
              "        text-align: right;\n",
              "    }\n",
              "</style>\n",
              "<table border=\"1\" class=\"dataframe\">\n",
              "  <thead>\n",
              "    <tr style=\"text-align: right;\">\n",
              "      <th></th>\n",
              "      <th>metros</th>\n",
              "      <th>valor</th>\n",
              "      <th>quartos</th>\n",
              "      <th>vagas</th>\n",
              "      <th>reformado</th>\n",
              "      <th>bairro</th>\n",
              "    </tr>\n",
              "  </thead>\n",
              "  <tbody>\n",
              "    <tr>\n",
              "      <th>0</th>\n",
              "      <td>107</td>\n",
              "      <td>560</td>\n",
              "      <td>3</td>\n",
              "      <td>2</td>\n",
              "      <td>0</td>\n",
              "      <td>Vila Lusitania</td>\n",
              "    </tr>\n",
              "    <tr>\n",
              "      <th>1</th>\n",
              "      <td>107</td>\n",
              "      <td>555</td>\n",
              "      <td>3</td>\n",
              "      <td>2</td>\n",
              "      <td>1</td>\n",
              "      <td>Vila Lusitania</td>\n",
              "    </tr>\n",
              "    <tr>\n",
              "      <th>2</th>\n",
              "      <td>49</td>\n",
              "      <td>196</td>\n",
              "      <td>2</td>\n",
              "      <td>1</td>\n",
              "      <td>0</td>\n",
              "      <td>Ferrazopolis</td>\n",
              "    </tr>\n",
              "    <tr>\n",
              "      <th>3</th>\n",
              "      <td>104</td>\n",
              "      <td>515</td>\n",
              "      <td>3</td>\n",
              "      <td>2</td>\n",
              "      <td>1</td>\n",
              "      <td>Centro</td>\n",
              "    </tr>\n",
              "    <tr>\n",
              "      <th>4</th>\n",
              "      <td>92</td>\n",
              "      <td>560</td>\n",
              "      <td>3</td>\n",
              "      <td>2</td>\n",
              "      <td>1</td>\n",
              "      <td>Vila Lusitania</td>\n",
              "    </tr>\n",
              "  </tbody>\n",
              "</table>\n",
              "</div>\n",
              "      <button class=\"colab-df-convert\" onclick=\"convertToInteractive('df-ef6c2aef-6d3f-4d56-b2d5-0509209cca96')\"\n",
              "              title=\"Convert this dataframe to an interactive table.\"\n",
              "              style=\"display:none;\">\n",
              "        \n",
              "  <svg xmlns=\"http://www.w3.org/2000/svg\" height=\"24px\"viewBox=\"0 0 24 24\"\n",
              "       width=\"24px\">\n",
              "    <path d=\"M0 0h24v24H0V0z\" fill=\"none\"/>\n",
              "    <path d=\"M18.56 5.44l.94 2.06.94-2.06 2.06-.94-2.06-.94-.94-2.06-.94 2.06-2.06.94zm-11 1L8.5 8.5l.94-2.06 2.06-.94-2.06-.94L8.5 2.5l-.94 2.06-2.06.94zm10 10l.94 2.06.94-2.06 2.06-.94-2.06-.94-.94-2.06-.94 2.06-2.06.94z\"/><path d=\"M17.41 7.96l-1.37-1.37c-.4-.4-.92-.59-1.43-.59-.52 0-1.04.2-1.43.59L10.3 9.45l-7.72 7.72c-.78.78-.78 2.05 0 2.83L4 21.41c.39.39.9.59 1.41.59.51 0 1.02-.2 1.41-.59l7.78-7.78 2.81-2.81c.8-.78.8-2.07 0-2.86zM5.41 20L4 18.59l7.72-7.72 1.47 1.35L5.41 20z\"/>\n",
              "  </svg>\n",
              "      </button>\n",
              "      \n",
              "  <style>\n",
              "    .colab-df-container {\n",
              "      display:flex;\n",
              "      flex-wrap:wrap;\n",
              "      gap: 12px;\n",
              "    }\n",
              "\n",
              "    .colab-df-convert {\n",
              "      background-color: #E8F0FE;\n",
              "      border: none;\n",
              "      border-radius: 50%;\n",
              "      cursor: pointer;\n",
              "      display: none;\n",
              "      fill: #1967D2;\n",
              "      height: 32px;\n",
              "      padding: 0 0 0 0;\n",
              "      width: 32px;\n",
              "    }\n",
              "\n",
              "    .colab-df-convert:hover {\n",
              "      background-color: #E2EBFA;\n",
              "      box-shadow: 0px 1px 2px rgba(60, 64, 67, 0.3), 0px 1px 3px 1px rgba(60, 64, 67, 0.15);\n",
              "      fill: #174EA6;\n",
              "    }\n",
              "\n",
              "    [theme=dark] .colab-df-convert {\n",
              "      background-color: #3B4455;\n",
              "      fill: #D2E3FC;\n",
              "    }\n",
              "\n",
              "    [theme=dark] .colab-df-convert:hover {\n",
              "      background-color: #434B5C;\n",
              "      box-shadow: 0px 1px 3px 1px rgba(0, 0, 0, 0.15);\n",
              "      filter: drop-shadow(0px 1px 2px rgba(0, 0, 0, 0.3));\n",
              "      fill: #FFFFFF;\n",
              "    }\n",
              "  </style>\n",
              "\n",
              "      <script>\n",
              "        const buttonEl =\n",
              "          document.querySelector('#df-ef6c2aef-6d3f-4d56-b2d5-0509209cca96 button.colab-df-convert');\n",
              "        buttonEl.style.display =\n",
              "          google.colab.kernel.accessAllowed ? 'block' : 'none';\n",
              "\n",
              "        async function convertToInteractive(key) {\n",
              "          const element = document.querySelector('#df-ef6c2aef-6d3f-4d56-b2d5-0509209cca96');\n",
              "          const dataTable =\n",
              "            await google.colab.kernel.invokeFunction('convertToInteractive',\n",
              "                                                     [key], {});\n",
              "          if (!dataTable) return;\n",
              "\n",
              "          const docLinkHtml = 'Like what you see? Visit the ' +\n",
              "            '<a target=\"_blank\" href=https://colab.research.google.com/notebooks/data_table.ipynb>data table notebook</a>'\n",
              "            + ' to learn more about interactive tables.';\n",
              "          element.innerHTML = '';\n",
              "          dataTable['output_type'] = 'display_data';\n",
              "          await google.colab.output.renderOutput(dataTable, element);\n",
              "          const docLink = document.createElement('div');\n",
              "          docLink.innerHTML = docLinkHtml;\n",
              "          element.appendChild(docLink);\n",
              "        }\n",
              "      </script>\n",
              "    </div>\n",
              "  </div>\n",
              "  "
            ]
          },
          "metadata": {},
          "execution_count": 66
        }
      ]
    },
    {
      "cell_type": "code",
      "source": [
        "\n",
        "import tensorflow as tf\n",
        "from tensorflow import keras\n",
        "from tensorflow.keras import layers\n",
        "\n",
        "model = keras.Sequential([\n",
        "    layers.Dense(units=2, input_shape=[3])\n",
        "])\n",
        "\n",
        "model.summary()"
      ],
      "metadata": {
        "colab": {
          "base_uri": "https://localhost:8080/"
        },
        "id": "UTudqtssoClG",
        "outputId": "5605348d-746d-4cef-f36b-0dbc64c1ac30"
      },
      "execution_count": 75,
      "outputs": [
        {
          "output_type": "stream",
          "name": "stdout",
          "text": [
            "Model: \"sequential_5\"\n",
            "_________________________________________________________________\n",
            " Layer (type)                Output Shape              Param #   \n",
            "=================================================================\n",
            " dense_5 (Dense)             (None, 2)                 8         \n",
            "                                                                 \n",
            "=================================================================\n",
            "Total params: 8\n",
            "Trainable params: 8\n",
            "Non-trainable params: 0\n",
            "_________________________________________________________________\n"
          ]
        }
      ]
    },
    {
      "cell_type": "code",
      "source": [
        "model.compile(optimizer=tf.keras.optimizers.Adam(0.01), loss = 'mse')"
      ],
      "metadata": {
        "id": "mZGYCz2Cp0G5"
      },
      "execution_count": 77,
      "outputs": []
    },
    {
      "cell_type": "code",
      "source": [
        "epochs_hist = model.fit(X, Y, epochs=200)"
      ],
      "metadata": {
        "colab": {
          "base_uri": "https://localhost:8080/"
        },
        "id": "hnval8OJp18I",
        "outputId": "4aa41759-246d-41f2-a87b-c64bd4571d6b"
      },
      "execution_count": 78,
      "outputs": [
        {
          "output_type": "stream",
          "name": "stdout",
          "text": [
            "Epoch 1/200\n",
            "4/4 [==============================] - 1s 5ms/step - loss: 126412.5391\n",
            "Epoch 2/200\n",
            "4/4 [==============================] - 0s 3ms/step - loss: 123988.8984\n",
            "Epoch 3/200\n",
            "4/4 [==============================] - 0s 4ms/step - loss: 121727.2578\n",
            "Epoch 4/200\n",
            "4/4 [==============================] - 0s 4ms/step - loss: 119412.5234\n",
            "Epoch 5/200\n",
            "4/4 [==============================] - 0s 3ms/step - loss: 117232.4375\n",
            "Epoch 6/200\n",
            "4/4 [==============================] - 0s 4ms/step - loss: 115069.1016\n",
            "Epoch 7/200\n",
            "4/4 [==============================] - 0s 3ms/step - loss: 112902.6328\n",
            "Epoch 8/200\n",
            "4/4 [==============================] - 0s 4ms/step - loss: 110847.4609\n",
            "Epoch 9/200\n",
            "4/4 [==============================] - 0s 5ms/step - loss: 108757.9766\n",
            "Epoch 10/200\n",
            "4/4 [==============================] - 0s 4ms/step - loss: 106727.5469\n",
            "Epoch 11/200\n",
            "4/4 [==============================] - 0s 3ms/step - loss: 104682.7578\n",
            "Epoch 12/200\n",
            "4/4 [==============================] - 0s 3ms/step - loss: 102568.9297\n",
            "Epoch 13/200\n",
            "4/4 [==============================] - 0s 3ms/step - loss: 100730.1562\n",
            "Epoch 14/200\n",
            "4/4 [==============================] - 0s 3ms/step - loss: 98781.9062\n",
            "Epoch 15/200\n",
            "4/4 [==============================] - 0s 4ms/step - loss: 96923.1875\n",
            "Epoch 16/200\n",
            "4/4 [==============================] - 0s 3ms/step - loss: 95085.2891\n",
            "Epoch 17/200\n",
            "4/4 [==============================] - 0s 4ms/step - loss: 93204.8828\n",
            "Epoch 18/200\n",
            "4/4 [==============================] - 0s 3ms/step - loss: 91313.2031\n",
            "Epoch 19/200\n",
            "4/4 [==============================] - 0s 3ms/step - loss: 89340.5078\n",
            "Epoch 20/200\n",
            "4/4 [==============================] - 0s 3ms/step - loss: 87454.9922\n",
            "Epoch 21/200\n",
            "4/4 [==============================] - 0s 4ms/step - loss: 85616.6172\n",
            "Epoch 22/200\n",
            "4/4 [==============================] - 0s 4ms/step - loss: 83740.1953\n",
            "Epoch 23/200\n",
            "4/4 [==============================] - 0s 4ms/step - loss: 82005.2188\n",
            "Epoch 24/200\n",
            "4/4 [==============================] - 0s 5ms/step - loss: 80302.8906\n",
            "Epoch 25/200\n",
            "4/4 [==============================] - 0s 3ms/step - loss: 78673.7812\n",
            "Epoch 26/200\n",
            "4/4 [==============================] - 0s 3ms/step - loss: 77123.0391\n",
            "Epoch 27/200\n",
            "4/4 [==============================] - 0s 5ms/step - loss: 75593.0703\n",
            "Epoch 28/200\n",
            "4/4 [==============================] - 0s 4ms/step - loss: 74002.7734\n",
            "Epoch 29/200\n",
            "4/4 [==============================] - 0s 3ms/step - loss: 72533.8281\n",
            "Epoch 30/200\n",
            "4/4 [==============================] - 0s 5ms/step - loss: 71032.6172\n",
            "Epoch 31/200\n",
            "4/4 [==============================] - 0s 4ms/step - loss: 69492.1875\n",
            "Epoch 32/200\n",
            "4/4 [==============================] - 0s 4ms/step - loss: 68022.5234\n",
            "Epoch 33/200\n",
            "4/4 [==============================] - 0s 4ms/step - loss: 66447.0859\n",
            "Epoch 34/200\n",
            "4/4 [==============================] - 0s 3ms/step - loss: 64931.5156\n",
            "Epoch 35/200\n",
            "4/4 [==============================] - 0s 3ms/step - loss: 63479.1133\n",
            "Epoch 36/200\n",
            "4/4 [==============================] - 0s 3ms/step - loss: 62022.7305\n",
            "Epoch 37/200\n",
            "4/4 [==============================] - 0s 3ms/step - loss: 60595.0664\n",
            "Epoch 38/200\n",
            "4/4 [==============================] - 0s 4ms/step - loss: 59141.6953\n",
            "Epoch 39/200\n",
            "4/4 [==============================] - 0s 3ms/step - loss: 57862.0586\n",
            "Epoch 40/200\n",
            "4/4 [==============================] - 0s 4ms/step - loss: 56521.8945\n",
            "Epoch 41/200\n",
            "4/4 [==============================] - 0s 3ms/step - loss: 55328.4766\n",
            "Epoch 42/200\n",
            "4/4 [==============================] - 0s 5ms/step - loss: 54090.5938\n",
            "Epoch 43/200\n",
            "4/4 [==============================] - 0s 5ms/step - loss: 52939.3398\n",
            "Epoch 44/200\n",
            "4/4 [==============================] - 0s 5ms/step - loss: 51803.4219\n",
            "Epoch 45/200\n",
            "4/4 [==============================] - 0s 4ms/step - loss: 50709.1836\n",
            "Epoch 46/200\n",
            "4/4 [==============================] - 0s 3ms/step - loss: 49597.1602\n",
            "Epoch 47/200\n",
            "4/4 [==============================] - 0s 3ms/step - loss: 48532.8633\n",
            "Epoch 48/200\n",
            "4/4 [==============================] - 0s 4ms/step - loss: 47476.1406\n",
            "Epoch 49/200\n",
            "4/4 [==============================] - 0s 4ms/step - loss: 46419.0039\n",
            "Epoch 50/200\n",
            "4/4 [==============================] - 0s 4ms/step - loss: 45361.7109\n",
            "Epoch 51/200\n",
            "4/4 [==============================] - 0s 4ms/step - loss: 44353.7031\n",
            "Epoch 52/200\n",
            "4/4 [==============================] - 0s 3ms/step - loss: 43387.2891\n",
            "Epoch 53/200\n",
            "4/4 [==============================] - 0s 4ms/step - loss: 42421.7617\n",
            "Epoch 54/200\n",
            "4/4 [==============================] - 0s 3ms/step - loss: 41433.4141\n",
            "Epoch 55/200\n",
            "4/4 [==============================] - 0s 3ms/step - loss: 40489.2344\n",
            "Epoch 56/200\n",
            "4/4 [==============================] - 0s 4ms/step - loss: 39549.6016\n",
            "Epoch 57/200\n",
            "4/4 [==============================] - 0s 3ms/step - loss: 38653.3320\n",
            "Epoch 58/200\n",
            "4/4 [==============================] - 0s 4ms/step - loss: 37756.2891\n",
            "Epoch 59/200\n",
            "4/4 [==============================] - 0s 4ms/step - loss: 36873.8789\n",
            "Epoch 60/200\n",
            "4/4 [==============================] - 0s 4ms/step - loss: 36016.3398\n",
            "Epoch 61/200\n",
            "4/4 [==============================] - 0s 4ms/step - loss: 35176.8750\n",
            "Epoch 62/200\n",
            "4/4 [==============================] - 0s 4ms/step - loss: 34332.6484\n",
            "Epoch 63/200\n",
            "4/4 [==============================] - 0s 4ms/step - loss: 33535.9258\n",
            "Epoch 64/200\n",
            "4/4 [==============================] - 0s 3ms/step - loss: 32680.6055\n",
            "Epoch 65/200\n",
            "4/4 [==============================] - 0s 4ms/step - loss: 31909.4492\n",
            "Epoch 66/200\n",
            "4/4 [==============================] - 0s 6ms/step - loss: 31191.7617\n",
            "Epoch 67/200\n",
            "4/4 [==============================] - 0s 4ms/step - loss: 30458.9902\n",
            "Epoch 68/200\n",
            "4/4 [==============================] - 0s 4ms/step - loss: 29745.5430\n",
            "Epoch 69/200\n",
            "4/4 [==============================] - 0s 4ms/step - loss: 29045.6406\n",
            "Epoch 70/200\n",
            "4/4 [==============================] - 0s 5ms/step - loss: 28355.0781\n",
            "Epoch 71/200\n",
            "4/4 [==============================] - 0s 3ms/step - loss: 27664.6309\n",
            "Epoch 72/200\n",
            "4/4 [==============================] - 0s 3ms/step - loss: 27000.6309\n",
            "Epoch 73/200\n",
            "4/4 [==============================] - 0s 3ms/step - loss: 26336.2520\n",
            "Epoch 74/200\n",
            "4/4 [==============================] - 0s 5ms/step - loss: 25698.0352\n",
            "Epoch 75/200\n",
            "4/4 [==============================] - 0s 4ms/step - loss: 25077.1074\n",
            "Epoch 76/200\n",
            "4/4 [==============================] - 0s 5ms/step - loss: 24509.3027\n",
            "Epoch 77/200\n",
            "4/4 [==============================] - 0s 5ms/step - loss: 23911.4316\n",
            "Epoch 78/200\n",
            "4/4 [==============================] - 0s 5ms/step - loss: 23352.2441\n",
            "Epoch 79/200\n",
            "4/4 [==============================] - 0s 4ms/step - loss: 22843.1758\n",
            "Epoch 80/200\n",
            "4/4 [==============================] - 0s 3ms/step - loss: 22291.0352\n",
            "Epoch 81/200\n",
            "4/4 [==============================] - 0s 5ms/step - loss: 21744.5078\n",
            "Epoch 82/200\n",
            "4/4 [==============================] - 0s 4ms/step - loss: 21216.9883\n",
            "Epoch 83/200\n",
            "4/4 [==============================] - 0s 3ms/step - loss: 20676.7500\n",
            "Epoch 84/200\n",
            "4/4 [==============================] - 0s 3ms/step - loss: 20175.6758\n",
            "Epoch 85/200\n",
            "4/4 [==============================] - 0s 4ms/step - loss: 19662.2109\n",
            "Epoch 86/200\n",
            "4/4 [==============================] - 0s 3ms/step - loss: 19198.6348\n",
            "Epoch 87/200\n",
            "4/4 [==============================] - 0s 3ms/step - loss: 18761.4453\n",
            "Epoch 88/200\n",
            "4/4 [==============================] - 0s 5ms/step - loss: 18340.4844\n",
            "Epoch 89/200\n",
            "4/4 [==============================] - 0s 4ms/step - loss: 17960.7793\n",
            "Epoch 90/200\n",
            "4/4 [==============================] - 0s 3ms/step - loss: 17576.7734\n",
            "Epoch 91/200\n",
            "4/4 [==============================] - 0s 3ms/step - loss: 17197.1855\n",
            "Epoch 92/200\n",
            "4/4 [==============================] - 0s 3ms/step - loss: 16835.1738\n",
            "Epoch 93/200\n",
            "4/4 [==============================] - 0s 3ms/step - loss: 16488.7578\n",
            "Epoch 94/200\n",
            "4/4 [==============================] - 0s 3ms/step - loss: 16111.5322\n",
            "Epoch 95/200\n",
            "4/4 [==============================] - 0s 3ms/step - loss: 15751.8154\n",
            "Epoch 96/200\n",
            "4/4 [==============================] - 0s 3ms/step - loss: 15408.8789\n",
            "Epoch 97/200\n",
            "4/4 [==============================] - 0s 3ms/step - loss: 15064.9863\n",
            "Epoch 98/200\n",
            "4/4 [==============================] - 0s 3ms/step - loss: 14705.7178\n",
            "Epoch 99/200\n",
            "4/4 [==============================] - 0s 3ms/step - loss: 14363.4883\n",
            "Epoch 100/200\n",
            "4/4 [==============================] - 0s 5ms/step - loss: 14030.1191\n",
            "Epoch 101/200\n",
            "4/4 [==============================] - 0s 3ms/step - loss: 13719.2373\n",
            "Epoch 102/200\n",
            "4/4 [==============================] - 0s 3ms/step - loss: 13447.8496\n",
            "Epoch 103/200\n",
            "4/4 [==============================] - 0s 3ms/step - loss: 13170.4658\n",
            "Epoch 104/200\n",
            "4/4 [==============================] - 0s 4ms/step - loss: 12919.7979\n",
            "Epoch 105/200\n",
            "4/4 [==============================] - 0s 5ms/step - loss: 12675.6309\n",
            "Epoch 106/200\n",
            "4/4 [==============================] - 0s 3ms/step - loss: 12421.8037\n",
            "Epoch 107/200\n",
            "4/4 [==============================] - 0s 4ms/step - loss: 12184.1689\n",
            "Epoch 108/200\n",
            "4/4 [==============================] - 0s 4ms/step - loss: 11950.8066\n",
            "Epoch 109/200\n",
            "4/4 [==============================] - 0s 3ms/step - loss: 11725.4775\n",
            "Epoch 110/200\n",
            "4/4 [==============================] - 0s 3ms/step - loss: 11508.5879\n",
            "Epoch 111/200\n",
            "4/4 [==============================] - 0s 3ms/step - loss: 11288.5322\n",
            "Epoch 112/200\n",
            "4/4 [==============================] - 0s 3ms/step - loss: 11077.3154\n",
            "Epoch 113/200\n",
            "4/4 [==============================] - 0s 3ms/step - loss: 10861.3271\n",
            "Epoch 114/200\n",
            "4/4 [==============================] - 0s 4ms/step - loss: 10651.9951\n",
            "Epoch 115/200\n",
            "4/4 [==============================] - 0s 5ms/step - loss: 10432.8867\n",
            "Epoch 116/200\n",
            "4/4 [==============================] - 0s 6ms/step - loss: 10251.7305\n",
            "Epoch 117/200\n",
            "4/4 [==============================] - 0s 6ms/step - loss: 10072.2793\n",
            "Epoch 118/200\n",
            "4/4 [==============================] - 0s 3ms/step - loss: 9888.3125\n",
            "Epoch 119/200\n",
            "4/4 [==============================] - 0s 3ms/step - loss: 9717.5586\n",
            "Epoch 120/200\n",
            "4/4 [==============================] - 0s 4ms/step - loss: 9533.6719\n",
            "Epoch 121/200\n",
            "4/4 [==============================] - 0s 4ms/step - loss: 9377.5537\n",
            "Epoch 122/200\n",
            "4/4 [==============================] - 0s 4ms/step - loss: 9206.3506\n",
            "Epoch 123/200\n",
            "4/4 [==============================] - 0s 3ms/step - loss: 9036.8174\n",
            "Epoch 124/200\n",
            "4/4 [==============================] - 0s 3ms/step - loss: 8867.8809\n",
            "Epoch 125/200\n",
            "4/4 [==============================] - 0s 3ms/step - loss: 8734.9824\n",
            "Epoch 126/200\n",
            "4/4 [==============================] - 0s 3ms/step - loss: 8586.9180\n",
            "Epoch 127/200\n",
            "4/4 [==============================] - 0s 3ms/step - loss: 8458.0146\n",
            "Epoch 128/200\n",
            "4/4 [==============================] - 0s 3ms/step - loss: 8335.0576\n",
            "Epoch 129/200\n",
            "4/4 [==============================] - 0s 4ms/step - loss: 8200.3359\n",
            "Epoch 130/200\n",
            "4/4 [==============================] - 0s 4ms/step - loss: 8062.4785\n",
            "Epoch 131/200\n",
            "4/4 [==============================] - 0s 4ms/step - loss: 7933.5952\n",
            "Epoch 132/200\n",
            "4/4 [==============================] - 0s 4ms/step - loss: 7815.2256\n",
            "Epoch 133/200\n",
            "4/4 [==============================] - 0s 4ms/step - loss: 7694.1694\n",
            "Epoch 134/200\n",
            "4/4 [==============================] - 0s 4ms/step - loss: 7568.8936\n",
            "Epoch 135/200\n",
            "4/4 [==============================] - 0s 4ms/step - loss: 7458.7339\n",
            "Epoch 136/200\n",
            "4/4 [==============================] - 0s 4ms/step - loss: 7332.8809\n",
            "Epoch 137/200\n",
            "4/4 [==============================] - 0s 4ms/step - loss: 7208.3574\n",
            "Epoch 138/200\n",
            "4/4 [==============================] - 0s 4ms/step - loss: 7107.3633\n",
            "Epoch 139/200\n",
            "4/4 [==============================] - 0s 4ms/step - loss: 6997.7764\n",
            "Epoch 140/200\n",
            "4/4 [==============================] - 0s 4ms/step - loss: 6907.4043\n",
            "Epoch 141/200\n",
            "4/4 [==============================] - 0s 5ms/step - loss: 6824.7012\n",
            "Epoch 142/200\n",
            "4/4 [==============================] - 0s 4ms/step - loss: 6753.5981\n",
            "Epoch 143/200\n",
            "4/4 [==============================] - 0s 4ms/step - loss: 6683.1738\n",
            "Epoch 144/200\n",
            "4/4 [==============================] - 0s 4ms/step - loss: 6611.7798\n",
            "Epoch 145/200\n",
            "4/4 [==============================] - 0s 5ms/step - loss: 6548.1157\n",
            "Epoch 146/200\n",
            "4/4 [==============================] - 0s 3ms/step - loss: 6485.7651\n",
            "Epoch 147/200\n",
            "4/4 [==============================] - 0s 4ms/step - loss: 6425.0205\n",
            "Epoch 148/200\n",
            "4/4 [==============================] - 0s 3ms/step - loss: 6362.8398\n",
            "Epoch 149/200\n",
            "4/4 [==============================] - 0s 3ms/step - loss: 6297.3174\n",
            "Epoch 150/200\n",
            "4/4 [==============================] - 0s 3ms/step - loss: 6240.9951\n",
            "Epoch 151/200\n",
            "4/4 [==============================] - 0s 3ms/step - loss: 6181.3521\n",
            "Epoch 152/200\n",
            "4/4 [==============================] - 0s 3ms/step - loss: 6127.6377\n",
            "Epoch 153/200\n",
            "4/4 [==============================] - 0s 3ms/step - loss: 6077.6133\n",
            "Epoch 154/200\n",
            "4/4 [==============================] - 0s 3ms/step - loss: 6019.0312\n",
            "Epoch 155/200\n",
            "4/4 [==============================] - 0s 5ms/step - loss: 5964.1787\n",
            "Epoch 156/200\n",
            "4/4 [==============================] - 0s 4ms/step - loss: 5915.2500\n",
            "Epoch 157/200\n",
            "4/4 [==============================] - 0s 4ms/step - loss: 5859.8442\n",
            "Epoch 158/200\n",
            "4/4 [==============================] - 0s 4ms/step - loss: 5815.5918\n",
            "Epoch 159/200\n",
            "4/4 [==============================] - 0s 4ms/step - loss: 5773.6582\n",
            "Epoch 160/200\n",
            "4/4 [==============================] - 0s 4ms/step - loss: 5734.2964\n",
            "Epoch 161/200\n",
            "4/4 [==============================] - 0s 4ms/step - loss: 5695.7876\n",
            "Epoch 162/200\n",
            "4/4 [==============================] - 0s 4ms/step - loss: 5650.4512\n",
            "Epoch 163/200\n",
            "4/4 [==============================] - 0s 4ms/step - loss: 5611.8188\n",
            "Epoch 164/200\n",
            "4/4 [==============================] - 0s 3ms/step - loss: 5577.8027\n",
            "Epoch 165/200\n",
            "4/4 [==============================] - 0s 4ms/step - loss: 5533.7695\n",
            "Epoch 166/200\n",
            "4/4 [==============================] - 0s 4ms/step - loss: 5498.5566\n",
            "Epoch 167/200\n",
            "4/4 [==============================] - 0s 4ms/step - loss: 5459.4941\n",
            "Epoch 168/200\n",
            "4/4 [==============================] - 0s 3ms/step - loss: 5434.4985\n",
            "Epoch 169/200\n",
            "4/4 [==============================] - 0s 3ms/step - loss: 5399.7227\n",
            "Epoch 170/200\n",
            "4/4 [==============================] - 0s 3ms/step - loss: 5373.5742\n",
            "Epoch 171/200\n",
            "4/4 [==============================] - 0s 3ms/step - loss: 5348.5996\n",
            "Epoch 172/200\n",
            "4/4 [==============================] - 0s 3ms/step - loss: 5318.4639\n",
            "Epoch 173/200\n",
            "4/4 [==============================] - 0s 3ms/step - loss: 5289.7383\n",
            "Epoch 174/200\n",
            "4/4 [==============================] - 0s 3ms/step - loss: 5267.4937\n",
            "Epoch 175/200\n",
            "4/4 [==============================] - 0s 7ms/step - loss: 5242.6543\n",
            "Epoch 176/200\n",
            "4/4 [==============================] - 0s 4ms/step - loss: 5215.2998\n",
            "Epoch 177/200\n",
            "4/4 [==============================] - 0s 4ms/step - loss: 5193.5405\n",
            "Epoch 178/200\n",
            "4/4 [==============================] - 0s 3ms/step - loss: 5174.1064\n",
            "Epoch 179/200\n",
            "4/4 [==============================] - 0s 5ms/step - loss: 5152.8130\n",
            "Epoch 180/200\n",
            "4/4 [==============================] - 0s 3ms/step - loss: 5133.0898\n",
            "Epoch 181/200\n",
            "4/4 [==============================] - 0s 4ms/step - loss: 5113.3989\n",
            "Epoch 182/200\n",
            "4/4 [==============================] - 0s 3ms/step - loss: 5097.8643\n",
            "Epoch 183/200\n",
            "4/4 [==============================] - 0s 3ms/step - loss: 5079.2231\n",
            "Epoch 184/200\n",
            "4/4 [==============================] - 0s 3ms/step - loss: 5054.6553\n",
            "Epoch 185/200\n",
            "4/4 [==============================] - 0s 3ms/step - loss: 5041.1035\n",
            "Epoch 186/200\n",
            "4/4 [==============================] - 0s 3ms/step - loss: 5028.5444\n",
            "Epoch 187/200\n",
            "4/4 [==============================] - 0s 6ms/step - loss: 5014.0967\n",
            "Epoch 188/200\n",
            "4/4 [==============================] - 0s 3ms/step - loss: 4996.2920\n",
            "Epoch 189/200\n",
            "4/4 [==============================] - 0s 3ms/step - loss: 4986.2578\n",
            "Epoch 190/200\n",
            "4/4 [==============================] - 0s 5ms/step - loss: 4972.6714\n",
            "Epoch 191/200\n",
            "4/4 [==============================] - 0s 3ms/step - loss: 4962.3325\n",
            "Epoch 192/200\n",
            "4/4 [==============================] - 0s 3ms/step - loss: 4955.5386\n",
            "Epoch 193/200\n",
            "4/4 [==============================] - 0s 3ms/step - loss: 4946.7207\n",
            "Epoch 194/200\n",
            "4/4 [==============================] - 0s 3ms/step - loss: 4937.1836\n",
            "Epoch 195/200\n",
            "4/4 [==============================] - 0s 3ms/step - loss: 4927.0381\n",
            "Epoch 196/200\n",
            "4/4 [==============================] - 0s 3ms/step - loss: 4918.1016\n",
            "Epoch 197/200\n",
            "4/4 [==============================] - 0s 3ms/step - loss: 4905.2329\n",
            "Epoch 198/200\n",
            "4/4 [==============================] - 0s 3ms/step - loss: 4896.2695\n",
            "Epoch 199/200\n",
            "4/4 [==============================] - 0s 3ms/step - loss: 4885.0854\n",
            "Epoch 200/200\n",
            "4/4 [==============================] - 0s 2ms/step - loss: 4873.7285\n"
          ]
        }
      ]
    },
    {
      "cell_type": "code",
      "source": [
        "import pandas as pd\n",
        "\n",
        "history_df = pd.DataFrame(epochs_hist.history)\n",
        "\n",
        "history_df['loss'].plot();"
      ],
      "metadata": {
        "colab": {
          "base_uri": "https://localhost:8080/",
          "height": 265
        },
        "id": "WBHvtpX1qsJR",
        "outputId": "c3c132dd-4a9a-49e7-fb03-97d2df46506e"
      },
      "execution_count": 79,
      "outputs": [
        {
          "output_type": "display_data",
          "data": {
            "text/plain": [
              "<Figure size 432x288 with 1 Axes>"
            ],
            "image/png": "[encoded data removed]"
          },
          "metadata": {
            "needs_background": "light"
          }
        }
      ]
    },
    {
      "cell_type": "code",
      "source": [
        "metros = 65\n",
        "quartos = 2\n",
        "vagas = 2 \n",
        "\n",
        "revenue = model.predict([[metros, quartos, vagas]])\n",
        "print('Apartamento de {0} metros^2 com {1} quartos com {2} vagas que sofreu 1 reforma localizado no Centro custa R$ {3:.2f}'.format(metros, quartos, vagas, revenue[0,0]))"
      ],
      "metadata": {
        "colab": {
          "base_uri": "https://localhost:8080/"
        },
        "id": "jztoKGw1te1B",
        "outputId": "c9405ce0-cccd-46af-9f88-bcf66cd1be95"
      },
      "execution_count": 105,
      "outputs": [
        {
          "output_type": "stream",
          "name": "stdout",
          "text": [
            "Apartamento de 65 metros^2 com 2 quartos com 2 vagas que sofreu 1 reforma localizado no Centro custa R$ 332.22\n"
          ]
        }
      ]
    },
    {
      "cell_type": "markdown",
      "source": [
        "Sumarize na tabela abaixo os resultados obtidos para os conjuntos de dados de treino e de teste"
      ],
      "metadata": {
        "id": "Y7Mf0dLs6lBi"
      }
    },
    {
      "cell_type": "markdown",
      "source": [
        "**Resposta:**\n",
        "\n",
        "|    | Regressão Linear| Rede Neural Perceptron |\n",
        "|:---:|:---:|:---:|\n",
        "| treino | X | X |\n",
        "| teste  | X | X |"
      ],
      "metadata": {
        "id": "eXTX-BaQ6e9J"
      }
    },
    {
      "cell_type": "markdown",
      "metadata": {
        "id": "6GRyUOHQEnBr"
      },
      "source": [
        "**Pergunta:** Qual dos algoritmos obteve um resultado melhor? Justifique\n",
        "\n",
        "**Resposta:** O que teve o resultado mais próximo do esperado foi o algorítimo da Rede Neural Perceptron, pela simples razão do algorítimo ter chegado perto do resultado, logo na primeira tentativa."
      ]
    },
    {
      "cell_type": "markdown",
      "metadata": {
        "id": "CSV86VhSEnBr"
      },
      "source": [
        "## Modelo de produção: Teste com novos dados\n",
        "\n",
        "Use seu modelo treinado para determinar: \n",
        "\n",
        "**`Quanto vale um apartamento de 65m2 com 2 quartos, 2 vagas, reformado no Centro?`**"
      ]
    },
    {
      "cell_type": "code",
      "execution_count": 104,
      "metadata": {
        "id": "NC-SxVDeEnBr",
        "colab": {
          "base_uri": "https://localhost:8080/"
        },
        "outputId": "af478a89-b50c-4c86-fd8a-087e6c8352ac"
      },
      "outputs": [
        {
          "output_type": "stream",
          "name": "stdout",
          "text": [
            "Apartamento de 65 metros^2 com 2 quartos com 2 vagas que sofreu 1 reforma localizado no Centro custa R$ 332.22\n"
          ]
        }
      ],
      "source": [
        "#Seu Código aqui...\n",
        "metros = 65\n",
        "quartos = 2\n",
        "vagas = 2 \n",
        "\n",
        "revenue = model.predict([[metros, quartos, vagas]])\n",
        "print('Apartamento de {0} metros^2 com {1} quartos com {2} vagas que sofreu 1 reforma localizado no Centro custa R$ {3:.2f}'.format(metros, quartos, vagas, revenue[0,0]))\n"
      ]
    },
    {
      "cell_type": "markdown",
      "metadata": {
        "id": "E63qRRafEnBs"
      },
      "source": [
        "## 5. Conclusões finais\n",
        "\n",
        "Ufa!!... Chegamos ao final. Parabéns! De forma simplificada e completa, passamos por todas as etapas de um projeto de aprendizado de maquina. Outras etapas podem ser adicionadas no tratamento dos dados e desenvolvimento do modelo.\n"
      ]
    },
    {
      "cell_type": "markdown",
      "metadata": {
        "id": "FDQj8s1BEnBs"
      },
      "source": [
        "**Pergunta:**: O modelo desenvolvido obteve um resultado satisfatório? Justifique:\n",
        "\n",
        "**Resposta**: Sim, pois ambos os modelos tiveram um ótimo desempenho no teste, conseguiram chegar perto do valor proposto."
      ]
    },
    {
      "cell_type": "markdown",
      "metadata": {
        "id": "fGAi3gxnEnBs"
      },
      "source": [
        "**Pergunta:**: O que faria diferente para melhorar resultado obtido? Justifique:\n",
        "\n",
        "**Resposta**:Ir treinando e melhorando os algorítimos para que eles possam atingir resultados melhores.\n",
        "\n",
        "\n",
        "\n",
        "\n"
      ]
    },
    {
      "cell_type": "code",
      "source": [
        "from google.colab import drive\n",
        "drive.mount('/content/drive')"
      ],
      "metadata": {
        "id": "MO98FhcK6BgK"
      },
      "execution_count": null,
      "outputs": []
    }
  ],
  "metadata": {
    "colab": {
      "name": "CheckPoint.ipynb",
      "provenance": []
    },
    "interpreter": {
      "hash": "916dbcbb3f70747c44a77c7bcd40155683ae19c65e1c03b4aa3499c5328201f1"
    },
    "kernelspec": {
      "display_name": "Python 3",
      "language": "python",
      "name": "python3"
    },
    "language_info": {
      "codemirror_mode": {
        "name": "ipython",
        "version": 3
      },
      "file_extension": ".py",
      "mimetype": "text/x-python",
      "name": "python",
      "nbconvert_exporter": "python",
      "pygments_lexer": "ipython3",
      "version": "3.9.5"
    }
  },
  "nbformat": 4,
  "nbformat_minor": 0
}